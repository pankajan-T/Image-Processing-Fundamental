{
 "cells": [
  {
   "cell_type": "code",
   "execution_count": 2,
   "metadata": {},
   "outputs": [],
   "source": [
    "import cv2 as cv\n",
    "import numpy as np\n",
    "from scipy.optimize import minimize\n",
    "from scipy import linalg\n",
    "import matplotlib.pyplot as plt"
   ]
  },
  {
   "cell_type": "code",
   "execution_count": 4,
   "metadata": {},
   "outputs": [],
   "source": [
    "\n",
    "# np . random . see ( 0 )\n",
    "N = 100\n",
    "half_n = N// 2\n",
    "r = 10\n",
    "s = r/16\n",
    "t = np.random.uniform (0 , 2*np . pi , half_n )\n",
    "n = s*np.random.randn ( half_n )\n",
    "x , y = ( r + n)*np.cos( t ),( r + n)*np.sin ( t )\n",
    "X_circ = np.hstack(( x.reshape( half_n , 1 ) , y.reshape( half_n , 1 ) ) )\n",
    "m, b = -1, 2\n",
    "x = np.linspace(-12, 12 , half_n )\n",
    "y = m*x + b + s*np.random.randn ( half_n )\n",
    "X_line = np . hstack ( ( x . reshape ( half_n , 1 ) , y . reshape ( half_n , 1 ) ) )\n",
    "X = np . vstack ( ( X_circ , X_line ) )"
   ]
  },
  {
   "cell_type": "code",
   "execution_count": null,
   "metadata": {},
   "outputs": [],
   "source": []
  }
 ],
 "metadata": {
  "interpreter": {
   "hash": "8ffd7e1e81c82210cf4b39e5eb3fc6f6a707c53ebe0bd7be3a6223226bb69677"
  },
  "kernelspec": {
   "display_name": "Python 3.9.1 64-bit",
   "language": "python",
   "name": "python3"
  },
  "language_info": {
   "codemirror_mode": {
    "name": "ipython",
    "version": 3
   },
   "file_extension": ".py",
   "mimetype": "text/x-python",
   "name": "python",
   "nbconvert_exporter": "python",
   "pygments_lexer": "ipython3",
   "version": "3.9.1"
  },
  "orig_nbformat": 4
 },
 "nbformat": 4,
 "nbformat_minor": 2
}
