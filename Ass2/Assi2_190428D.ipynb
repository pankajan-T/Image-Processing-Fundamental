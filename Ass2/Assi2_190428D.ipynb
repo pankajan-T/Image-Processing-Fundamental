{
 "cells": [
  {
   "cell_type": "markdown",
   "metadata": {},
   "source": [
    "Pankajan .T\n",
    "190428D"
   ]
  },
  {
   "cell_type": "code",
   "execution_count": 2,
   "metadata": {},
   "outputs": [],
   "source": [
    "import cv2 as cv\n",
    "import numpy as np\n",
    "from scipy.optimize import minimize\n",
    "from scipy import linalg\n",
    "import matplotlib.pyplot as plt\n",
    "from numpy.linalg import inv"
   ]
  },
  {
   "cell_type": "code",
   "execution_count": 4,
   "metadata": {},
   "outputs": [],
   "source": [
    "def CirParameters(data):\n",
    "    part1 = data[0]\n",
    "    part2 = data[1]\n",
    "    part3 = data[2]\n",
    "    A = np.array([[part2[0] - part1[0], part2[1] - part1[1]], [part3[0] - part2[0], part3[1] - part2[1]]]) \n",
    "    B = np.array([[part2[0]**2 - part1[0]**2 + part2[1]**2 - part1[1]**2], [part3[0]**2 - part2[0]**2 + part3[1]**2 - part2[1]**2]])\t\t\n",
    "    inv_A = inv(A)\n",
    "    a, b = np.dot(inv_A, B) / 2\n",
    "    a, b = a[0], b[0]\n",
    "    r = np.sqrt((a - part1[0])**2 + (b - part1[1])**2)\n",
    "\n",
    "    return (a, b, r)"
   ]
  },
  {
   "cell_type": "code",
   "execution_count": 3,
   "metadata": {},
   "outputs": [],
   "source": [
    "def RandPoints(data, i):\n",
    "    count = 0\n",
    "    res = []\n",
    "    while count < i:\n",
    "        index = np.random.randint(len(data))\n",
    "        X = data[index][0]\n",
    "        Y = data[index][1]\n",
    "        if (X, Y) not in res:\n",
    "            res.append((x, y))\n",
    "            count += 1\n",
    "\n",
    "    return res"
   ]
  },
  {
   "cell_type": "code",
   "execution_count": null,
   "metadata": {},
   "outputs": [],
   "source": [
    "def InlierDist(cir, data, lim):\n",
    "    x_data = data[:, 0]\n",
    "    y_data = data[:, 1]\n",
    "    a = cir[0]\n",
    "    b = cir[1]\n",
    "    r = cir[2]\n",
    "    total = 0\n",
    "    inliers = []\n",
    "    for i in range(len(x_data)):\n",
    "        distance = np.sqrt((x_data[i] - a)**2 + (y_data[i] - b)**2)\n",
    "\n",
    "        if abs(distance - r) <= lim:\n",
    "            inliers.append([x_data[i], y_data[i]])\n",
    "            total += abs(distance - r)\n",
    "    \n",
    "    return inliers, total"
   ]
  },
  {
   "cell_type": "code",
   "execution_count": 4,
   "metadata": {},
   "outputs": [],
   "source": [
    "\n",
    "# np . random . see ( 0 )\n",
    "N = 100\n",
    "half_n = N// 2\n",
    "r = 10\n",
    "s = r/16\n",
    "t = np.random.uniform (0 , 2*np . pi , half_n )\n",
    "n = s*np.random.randn ( half_n )\n",
    "x , y = ( r + n)*np.cos( t ),( r + n)*np.sin ( t )\n",
    "X_circ = np.hstack(( x.reshape( half_n , 1 ) , y.reshape( half_n , 1 ) ) )\n",
    "m, b = -1, 2\n",
    "x = np.linspace(-12, 12 , half_n )\n",
    "y = m*x + b + s*np.random.randn ( half_n )\n",
    "X_line = np . hstack ( ( x . reshape ( half_n , 1 ) , y . reshape ( half_n , 1 ) ) )\n",
    "X = np . vstack ( ( X_circ , X_line ) )"
   ]
  },
  {
   "cell_type": "code",
   "execution_count": null,
   "metadata": {},
   "outputs": [],
   "source": []
  }
 ],
 "metadata": {
  "interpreter": {
   "hash": "8ffd7e1e81c82210cf4b39e5eb3fc6f6a707c53ebe0bd7be3a6223226bb69677"
  },
  "kernelspec": {
   "display_name": "Python 3.9.1 64-bit",
   "language": "python",
   "name": "python3"
  },
  "language_info": {
   "codemirror_mode": {
    "name": "ipython",
    "version": 3
   },
   "file_extension": ".py",
   "mimetype": "text/x-python",
   "name": "python",
   "nbconvert_exporter": "python",
   "pygments_lexer": "ipython3",
   "version": "3.9.1"
  },
  "orig_nbformat": 4
 },
 "nbformat": 4,
 "nbformat_minor": 2
}
