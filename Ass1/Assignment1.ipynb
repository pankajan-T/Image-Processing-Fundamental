{
 "cells": [
  {
   "cell_type": "code",
   "execution_count": 2,
   "metadata": {},
   "outputs": [],
   "source": [
    "import matplotlib.pyplot as plt\n",
    "import cv2 as cv\n",
    "import numpy as np\n",
    "%matplotlib inline"
   ]
  },
  {
   "cell_type": "code",
   "execution_count": 3,
   "metadata": {},
   "outputs": [
    {
     "data": {
      "image/png": "[encoded data removed]",
      "text/plain": [
       "<Figure size 432x288 with 1 Axes>"
      ]
     },
     "metadata": {
      "needs_background": "light"
     },
     "output_type": "display_data"
    }
   ],
   "source": [
    "\n",
    "c= np.array([(50, 50), (50, 100) , (150, 255), (150,150) , (255,255)])\n",
    "t1 = np.linspace(0, c[0,1], c[0,0] + 1-0).astype('uint8')\n",
    "t2 = np.linspace(c[0, 1] + 1, c[1,1], c[1,0]-c[0,0]).astype('uint8')\n",
    "t3 = np. linspace(c[1,1], c[2,1], c[2,0]-c[1,0]).astype('uint8')\n",
    "t4 = np. linspace(c[2,1], c[3,1], c[3,0]-c[2,0]).astype('uint8')\n",
    "t5 = np. linspace(c[3,1], c[4,1], c[4,0]-c[3,0]).astype('uint8')\n",
    "transform = np.concatenate((t1,t2,t3,t4), axis=0).astype('uint8') \n",
    "transform = np.concatenate((transform, t5), axis=0).astype('uint8')\n",
    "\n",
    "fig,ax = plt.subplots() \n",
    "ax.plot(transform)\n",
    "\n",
    "ax.set_xlabel(r'Input, $f(\\mathbf {x})$') \n",
    "ax.set_ylabel('Output, $\\mathrm{T}]f(\\mathbf {x})]$')\n",
    "ax.set_xlim (0,255)\n",
    "ax.set_ylim (0,255) \n",
    "ax.set_aspect('equal')\n",
    "plt. savefig('transform.png')\n",
    "plt.grid()\n",
    "plt.show()\n",
    "img_orig = cv.imread('emma_gray.jpg', cv.IMREAD_GRAYSCALE)\n",
    "image_transformed = cv.LUT(img_orig, transform) \n",
    "\n",
    "\n",
    "cv.imshow(\"Image\",image_transformed)\n",
    "cv.waitKey(0)\n",
    "cv.destroyAllWindows()"
   ]
  },
  {
   "cell_type": "code",
   "execution_count": null,
   "metadata": {},
   "outputs": [],
   "source": []
  }
 ],
 "metadata": {
  "interpreter": {
   "hash": "8ffd7e1e81c82210cf4b39e5eb3fc6f6a707c53ebe0bd7be3a6223226bb69677"
  },
  "kernelspec": {
   "display_name": "Python 3.9.1 64-bit",
   "language": "python",
   "name": "python3"
  },
  "language_info": {
   "codemirror_mode": {
    "name": "ipython",
    "version": 3
   },
   "file_extension": ".py",
   "mimetype": "text/x-python",
   "name": "python",
   "nbconvert_exporter": "python",
   "pygments_lexer": "ipython3",
   "version": "3.9.1"
  },
  "orig_nbformat": 4
 },
 "nbformat": 4,
 "nbformat_minor": 2
}
